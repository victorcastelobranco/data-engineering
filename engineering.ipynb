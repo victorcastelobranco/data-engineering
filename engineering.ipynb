{
 "cells": [
  {
   "cell_type": "code",
   "execution_count": 1,
   "metadata": {},
   "outputs": [],
   "source": [
    "import pyspark"
   ]
  },
  {
   "cell_type": "markdown",
   "metadata": {},
   "source": [
    "# Raw"
   ]
  },
  {
   "cell_type": "code",
   "execution_count": null,
   "metadata": {},
   "outputs": [
    {
     "name": "stdout",
     "output_type": "stream",
     "text": [
      "Customers DataFrame:\n",
      "+--------------------------------------------------------------------------------+\n",
      "|CustomerID\\tPersonID\\tStoreID\\tTerritoryID\\tAccountNumber\\trowguid\\tModifiedDate|\n",
      "+--------------------------------------------------------------------------------+\n",
      "|                                                            1\\t\\t934\\t1\\tAW00...|\n",
      "|                                                            2\\t\\t1028\\t1\\tAW0...|\n",
      "|                                                            3\\t\\t642\\t4\\tAW00...|\n",
      "|                                                            4\\t\\t932\\t4\\tAW00...|\n",
      "|                                                            5\\t\\t1026\\t4\\tAW0...|\n",
      "+--------------------------------------------------------------------------------+\n",
      "only showing top 5 rows\n",
      "Orders DataFrame:\n",
      "+-----------------------------------------------------------------------------------------------+\n",
      "|AddressID\\tAddressLine1\\tAddressLine2\\tCity\\tStateProvinceID\\tPostalCode\\trowguid\\tModifiedDate|\n",
      "+-----------------------------------------------------------------------------------------------+\n",
      "|                                                                           1\\t1970 Napa Ct.\\...|\n",
      "|                                                                           2\\t9833 Mt. Dias ...|\n",
      "|                                                                           3\\t7484 Roundtree...|\n",
      "|                                                                           4\\t9539 Glenside ...|\n",
      "|                                                                           5\\t1226 Shoe St.\\...|\n",
      "+-----------------------------------------------------------------------------------------------+\n",
      "only showing top 5 rows\n",
      "Products DataFrame:\n",
      "+-------------------------------------------------------------------+\n",
      "|CreditCardID\\tCardType\\tCardNumber\\tExpMonth\\tExpYear\\tModifiedDate|\n",
      "+-------------------------------------------------------------------+\n",
      "|                                               1\\tSuperiorCard\\t...|\n",
      "|                                               2\\tDistinguish\\t5...|\n",
      "|                                               3\\tColonialVoice\\...|\n",
      "|                                               4\\tColonialVoice\\...|\n",
      "|                                               5\\tVista\\t1111440...|\n",
      "+-------------------------------------------------------------------+\n",
      "only showing top 5 rows\n"
     ]
    }
   ],
   "source": [
    "from pyspark.sql import SparkSession\n",
    "# Ingest data\n",
    "# Initialize Spark session\n",
    "spark = SparkSession.builder \\\n",
    "    .appName(\"Data Ingestion\") \\\n",
    "    .getOrCreate()\n",
    "\n",
    "# Read CSV files\n",
    "df_customers = spark.read.csv('raw/customer.csv', header=True, inferSchema=True)\n",
    "df_orders = spark.read.csv('raw/address.csv', header=True, inferSchema=True)\n",
    "df_products = spark.read.csv('raw/creditcard.csv', header=True, inferSchema=True)\n",
    "\n",
    "# Show the first few rows of each dataframe\n",
    "print(\"Customers DataFrame:\")\n",
    "df_customers.show(5)\n",
    "\n",
    "print(\"Orders DataFrame:\")\n",
    "df_orders.show(5)\n",
    "\n",
    "print(\"Products DataFrame:\")\n",
    "df_products.show(5)"
   ]
  },
  {
   "cell_type": "markdown",
   "metadata": {},
   "source": [
    "# Bronze"
   ]
  },
  {
   "cell_type": "markdown",
   "metadata": {},
   "source": []
  },
  {
   "cell_type": "markdown",
   "metadata": {},
   "source": [
    "# Silver"
   ]
  },
  {
   "cell_type": "code",
   "execution_count": null,
   "metadata": {},
   "outputs": [],
   "source": []
  },
  {
   "cell_type": "markdown",
   "metadata": {},
   "source": [
    "# Gold"
   ]
  },
  {
   "cell_type": "code",
   "execution_count": null,
   "metadata": {},
   "outputs": [],
   "source": []
  }
 ],
 "metadata": {
  "kernelspec": {
   "display_name": "Python 3",
   "language": "python",
   "name": "python3"
  },
  "language_info": {
   "codemirror_mode": {
    "name": "ipython",
    "version": 3
   },
   "file_extension": ".py",
   "mimetype": "text/x-python",
   "name": "python",
   "nbconvert_exporter": "python",
   "pygments_lexer": "ipython3",
   "version": "3.13.1"
  }
 },
 "nbformat": 4,
 "nbformat_minor": 2
}
